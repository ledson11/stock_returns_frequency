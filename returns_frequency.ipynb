{
 "cells": [
  {
   "cell_type": "code",
   "execution_count": 1,
   "metadata": {},
   "outputs": [],
   "source": [
    "import pandas as pd\n",
    "import numpy as np\n",
    "import yfinance as yf"
   ]
  },
  {
   "cell_type": "code",
   "execution_count": 3,
   "metadata": {},
   "outputs": [],
   "source": [
    "sandp = yf.Ticker('^GSPC')\n",
    "ret = sandp.history(period='max')"
   ]
  },
  {
   "cell_type": "code",
   "execution_count": 4,
   "metadata": {},
   "outputs": [],
   "source": [
    "def pct_days(pct, days):\n",
    "    ret['prior_close'] = ret.shift(days)['Close']\n",
    "    ret['return'] = (ret['Close'] / ret['prior_close']) - 1\n",
    "    a = len(ret[(ret['return'] <= pct)])\n",
    "    b = ret['return'].count()\n",
    "    return a / b"
   ]
  },
  {
   "cell_type": "code",
   "execution_count": 16,
   "metadata": {},
   "outputs": [
    {
     "name": "stdout",
     "output_type": "stream",
     "text": [
      "This event happens 2 days each year\n",
      "This event happens 3 days every two years\n",
      "This event happens 5 days every three years\n",
      "This event happens 7 days every four years\n",
      "This event happens 8 days every five years\n"
     ]
    }
   ],
   "source": [
    "days = 3\n",
    "pct = -0.066\n",
    "odds = pct_days(pct, days)\n",
    "print('This event happens', int(round(pct_days(pct, days) * 253 * 1)), 'days each year')\n",
    "print('This event happens', int(round(pct_days(pct, days) * 253 * 2)), 'days every two years')\n",
    "print('This event happens', int(round(pct_days(pct, days) * 253 * 3)), 'days every three years')\n",
    "print('This event happens', int(round(pct_days(pct, days) * 253 * 4)), 'days every four years')\n",
    "print('This event happens', int(round(pct_days(pct, days) * 253 * 5)), 'days every five years')"
   ]
  }
 ],
 "metadata": {
  "kernelspec": {
   "display_name": "Python 3",
   "language": "python",
   "name": "python3"
  },
  "language_info": {
   "codemirror_mode": {
    "name": "ipython",
    "version": 3
   },
   "file_extension": ".py",
   "mimetype": "text/x-python",
   "name": "python",
   "nbconvert_exporter": "python",
   "pygments_lexer": "ipython3",
   "version": "3.7.4"
  }
 },
 "nbformat": 4,
 "nbformat_minor": 4
}
